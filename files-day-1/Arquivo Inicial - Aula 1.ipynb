{
 "cells": [
  {
   "cell_type": "markdown",
   "metadata": {},
   "source": [
    "# Automação de Sistemas e Processos com Python\n",
    "\n",
    "### Desafio:\n",
    "\n",
    "Todos os dias, o nosso sistema atualiza as vendas do dia anterior.\n",
    "O seu trabalho diário, como analista, é enviar um e-mail para a diretoria, assim que começar a trabalhar, com o faturamento e a quantidade de produtos vendidos no dia anterior\n",
    "\n",
    "E-mail da diretoria: seugmail+diretoria@gmail.com<br>\n",
    "Local onde o sistema disponibiliza as vendas do dia anterior: https://drive.google.com/drive/folders/149xknr9JvrlEnhNWO49zPcw0PW5icxga?usp=sharing\n",
    "\n",
    "Para resolver isso, vamos usar o pyautogui, uma biblioteca de automação de comandos do mouse e do teclado"
   ]
  },
  {
   "cell_type": "code",
   "execution_count": 38,
   "metadata": {},
   "outputs": [],
   "source": [
    "import pyautogui\n",
    "import pyperclip\n",
    "import time\n",
    "\n",
    "    # Hastags mean \"comment\" in Pyton.\n",
    "\n",
    "    # Pyautogui library is perfect for commanding mouse, keyboard and screen.\n",
    "\n",
    "            # Pyautogui commands:\n",
    "\n",
    "            # pyautogui.hotkey (a set of keys to be \"pressed\")\n",
    "            # pyautogui.write (to write a text)\n",
    "            # pyautogui.press (press 1 key)\n",
    "            # pyautogui.click()  - in the parenthesis you add the screen position.\n",
    "\n",
    "pyautogui.PAUSE = 1\n",
    "\n",
    "    # as in most programs, the computer is way too fast\n",
    "    # (only for screen commands?)\n",
    "    # and a delay must be set, as above.\n",
    "\n",
    "\n",
    "    # Writing down (comments here or elsewhere) in English step by step what you want to be done \n",
    "    # helps organizing the process. \n",
    "    # See below:\n",
    "    # comment and action, comment and action, comment and action, etc...\n",
    "    \n",
    "    \n",
    "\n",
    "\n",
    "# STEP 1: Go into the company system (in our case, the link above, stored in the Course's Google Drive.)\n",
    "\n",
    "\n",
    "\n",
    "pyautogui.hotkey(\"ctrl\", \"t\")\n",
    "pyperclip.copy(\"https://drive.google.com/drive/folders/149xknr9JvrlEnhNWO49zPcw0PW5icxga?usp=sharing\")\n",
    "\n",
    "            # It must be pyperclip.copy, not \"pyautogui.write\". That's pyperclip's role: copy.\n",
    "\n",
    "pyautogui.hotkey(\"ctrl\", \"v\")\n",
    "pyautogui.press(\"enter\")\n",
    "\n",
    "            # Ok, it's opening. But the Drive page is opening too slowly.\n",
    "            # This causes problems if Step 2 runs before the page opens completely.\n",
    "\n",
    "            # This must be fixed before we go to Step 2.\n",
    "\n",
    "            # It will be fixed by TIME, a code packege already installed in Pyton.\n",
    "            # All we have to do is CALL it. Import it.\n",
    "\n",
    "            # So I'll write it below \"import pyautogui\" and \"import pyperclip\"\n",
    "            # In the top of this file.\n",
    "\n",
    "            # and give the following command so it forces a \"x\" seconds pause when running the program.\n",
    "            #There we go!\n",
    "\n",
    "time.sleep(5)\n",
    "\n",
    "\n",
    "\n",
    "\n",
    "# STEP 2: Navigate in that system to find the database (in uou case, go into the \"export\" folder.)\n",
    "\n",
    "\n",
    "\n",
    "\n",
    "            # we have to learn how to command the mouse with Pyton.\n",
    "            # To access buttons, login boxes, etc.\n",
    "\n",
    "            # There's a tool that tells us WHERE to click\n",
    "            # in given x,y page coordinates\n",
    "\n",
    "            # We'll code that in the bottom of this file.\n",
    "            # It will give us the coordinates. \"We\" copy there and paste here.\n",
    "\n",
    "pyautogui.click(x=264, y=252, clicks=2) # click the \"export\" folder.\n",
    "        \n",
    "            #If 2 clicks required, add \", clicks=2\".\n",
    "            \n",
    "time.sleep(5)\n",
    "            \n",
    "# STEP 3: Download (export) the database.\n",
    "\n",
    "pyautogui.click(x=288, y=291) # Click once in the file to be downloaded.\n",
    "time.sleep(7)\n",
    "pyautogui.click(x=1211, y=172) # click the 3-dot menu.\n",
    "pyautogui.click(x=1049, y=449) # Click the download option.\n",
    "time.sleep(7)\n",
    "pyautogui.click(x=74, y=214) # Click documentos.\n",
    "pyautogui.click(x=332, y=157, clicks=2) # Click my folder.\n",
    "pyautogui.click(x=375, y=181, clicks=2) # Click git folder.\n",
    "pyautogui.click(x=368, y=267, clicks=2) # Click lira folder.\n",
    "pyautogui.click(x=306, y=139, clicks=2) # Click dia1 folder.\n",
    "pyautogui.click(x=307, y=162, clicks=2) # Click dados.\n",
    "pyautogui.click(x=510, y=448) # Click save.\n",
    "\n",
    "\n",
    "\n",
    "# wHEN I RUN THE SAME CODE THE NEXT MORNING EVERYTHING WENT SO WRONG!\n",
    "# CLICKED VERY WRONG PLACES!!!\n",
    "\n",
    "\n",
    "\n",
    "\n"
   ]
  },
  {
   "cell_type": "code",
   "execution_count": null,
   "metadata": {},
   "outputs": [],
   "source": [
    "# STEP 4: Import the database to Pyton.\n",
    "import pandas as pd\n",
    "\n",
    "tabela = pd.read_excel(C:\\Users\\ADM\\Documents\\RICARDO\\03 - Git Repositório\\Intensivao-Pyton\\files-day-1\\data)"
   ]
  },
  {
   "cell_type": "code",
   "execution_count": null,
   "metadata": {},
   "outputs": [],
   "source": [
    "# STEP 5: Calculate the indicators."
   ]
  },
  {
   "cell_type": "code",
   "execution_count": null,
   "metadata": {},
   "outputs": [],
   "source": [
    "# STEP 6: E-mail the report to the board of directors."
   ]
  },
  {
   "cell_type": "markdown",
   "metadata": {},
   "source": [
    "#### Use esse código para descobrir qual a posição de um item que queira clicar\n",
    "\n",
    "- Lembre-se: a posição na sua tela é diferente da posição na minha tela"
   ]
  },
  {
   "cell_type": "code",
   "execution_count": 35,
   "metadata": {},
   "outputs": [
    {
     "data": {
      "text/plain": [
       "Point(x=510, y=448)"
      ]
     },
     "execution_count": 35,
     "metadata": {},
     "output_type": "execute_result"
    }
   ],
   "source": [
    "time.sleep(7)\n",
    "pyautogui.position()\n",
    "# leave the parenthesis empty. Leave the cursor in this cell. Lay the mouse pointer somewhere. CntrEnter.\n",
    "# (if waiting - time.sleep(5), as it MUST be - Lay the mouse pointer over somewhere now). The position will display.\n",
    "# Copy the position and paste in the main code above,\n",
    "# in the parenthesis of pyautogui.click"
   ]
  },
  {
   "cell_type": "code",
   "execution_count": null,
   "metadata": {},
   "outputs": [],
   "source": []
  },
  {
   "cell_type": "code",
   "execution_count": null,
   "metadata": {},
   "outputs": [],
   "source": []
  }
 ],
 "metadata": {
  "kernelspec": {
   "display_name": "Python 3 (ipykernel)",
   "language": "python",
   "name": "python3"
  },
  "language_info": {
   "codemirror_mode": {
    "name": "ipython",
    "version": 3
   },
   "file_extension": ".py",
   "mimetype": "text/x-python",
   "name": "python",
   "nbconvert_exporter": "python",
   "pygments_lexer": "ipython3",
   "version": "3.9.7"
  }
 },
 "nbformat": 4,
 "nbformat_minor": 4
}
