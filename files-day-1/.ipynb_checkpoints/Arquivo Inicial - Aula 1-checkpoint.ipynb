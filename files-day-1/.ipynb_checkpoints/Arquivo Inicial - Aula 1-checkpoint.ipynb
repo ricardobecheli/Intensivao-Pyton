{
 "cells": [
  {
   "cell_type": "markdown",
   "metadata": {},
   "source": [
    "# Automação de Sistemas e Processos com Python\n",
    "\n",
    "### Desafio:\n",
    "\n",
    "Todos os dias, o nosso sistema atualiza as vendas do dia anterior.\n",
    "O seu trabalho diário, como analista, é enviar um e-mail para a diretoria, assim que começar a trabalhar, com o faturamento e a quantidade de produtos vendidos no dia anterior\n",
    "\n",
    "E-mail da diretoria: seugmail+diretoria@gmail.com<br>\n",
    "Local onde o sistema disponibiliza as vendas do dia anterior: https://drive.google.com/drive/folders/149xknr9JvrlEnhNWO49zPcw0PW5icxga?usp=sharing\n",
    "\n",
    "Para resolver isso, vamos usar o pyautogui, uma biblioteca de automação de comandos do mouse e do teclado"
   ]
  },
  {
   "cell_type": "code",
   "execution_count": 66,
   "metadata": {},
   "outputs": [],
   "source": [
    "import pyautogui\n",
    "import pyperclip\n",
    "import time\n",
    "\n",
    "    # Hastags mean \"comment\" in Pyton.\n",
    "\n",
    "    # Pyautogui library is perfect for commanding mouse, keyboard and screen.\n",
    "\n",
    "            # Pyautogui commands:\n",
    "\n",
    "            # pyautogui.hotkey (a set of keys to be \"pressed\")\n",
    "            # pyautogui.write (to write a text)\n",
    "            # pyautogui.press (press 1 key)\n",
    "            # pyautogui.click()  - in the parenthesis you add the screen position.\n",
    "\n",
    "pyautogui.PAUSE = 0.7\n",
    "\n",
    "    # as in most programs, the computer is way too fast\n",
    "    # (only for screen commands?)\n",
    "    # and a delay must be set, as above.\n",
    "\n",
    "\n",
    "    # Writing down (comments here or elsewhere) in English step by step what you want to be done \n",
    "    # helps organizing the process. \n",
    "    # See below:\n",
    "    # comment and action, comment and action, comment and action, etc...\n",
    "    \n",
    "    \n",
    "\n",
    "\n",
    "# STEP 1: Go into the company system (in our case, the link above, stored in the Course's Google Drive.)\n",
    "\n",
    "\n",
    "\n",
    "pyautogui.hotkey(\"ctrl\", \"t\")\n",
    "pyperclip.copy(\"https://drive.google.com/drive/folders/149xknr9JvrlEnhNWO49zPcw0PW5icxga?usp=sharing\")\n",
    "\n",
    "            # It must be pyperclip.copy, not \"pyautogui.write\". That's pyperclip's role: copy.\n",
    "\n",
    "pyautogui.hotkey(\"ctrl\", \"v\")\n",
    "pyautogui.press(\"enter\")\n",
    "\n",
    "            # Ok, it's opening. But the Drive page is opening too slowly.\n",
    "            # This causes problems if Step 2 runs before the page opens completely.\n",
    "\n",
    "            # This must be fixed before we go to Step 2.\n",
    "\n",
    "            # It will be fixed by TIME, a code packege already installed in Pyton.\n",
    "            # All we have to do is CALL it. Import it.\n",
    "\n",
    "            # So I'll write it below \"import pyautogui\" and \"import pyperclip\"\n",
    "            # In the top of this file.\n",
    "\n",
    "            # and give the following command so it forces a \"x\" seconds pause when running the program.\n",
    "            #There we go!\n",
    "\n",
    "time.sleep(5)\n",
    "\n",
    "\n",
    "\n",
    "\n",
    "# STEP 2: Navigate in that system to find the database (in uou case, go into the \"export\" folder.)\n",
    "\n",
    "\n",
    "\n",
    "\n",
    "            # we have to learn how to command the mouse with Pyton.\n",
    "            # To access buttons, login boxes, etc.\n",
    "\n",
    "            # There's a tool that tells us WHERE to click\n",
    "            # in given x,y page coordinates\n",
    "\n",
    "            # We'll code that in the bottom of this file.\n",
    "            # It will give us the coordinates. \"We\" copy there and paste here.\n",
    "\n",
    "pyautogui.click(x=204, y=253, clicks=2)\n",
    "        \n",
    "            #If 2 clicks required, add \"clicks=2\" as above. Not necessary now. Just to show.\n",
    "            # Here the \"2 click\" action makes no difference, but many times IT DOES!\n",
    "            # A Brazilian saying: \"what abounds does not harm\".\n",
    "            # = \"O que abunda não prejudica\".\n",
    "            \n",
    "\n",
    "            \n",
    "# STEP 3: Download (export) the database.\n",
    "\n",
    "\n",
    "pyautogui.click(x=66, y=244) # Clicks the download arrow over the file.\n",
    "time.sleep(3)\n",
    "pyautogui.click(x=73, y=227) #Clicks the documents folder.\n",
    "pyautogui.click(x=327, y=167, clicks=2) #Clicks my docs folder.\n",
    "pyautogui.click(x=394, y=190, clicks=2) #Clicks git folder.\n",
    "pyautogui.click(x=339, y=272, clicks=2) #Clicks intensivao folder.\n",
    "pyautogui.click(x=314, y=149, clicks=2) #Clicks files-day-1 folder.\n",
    "pyautogui.click(x=377, y=172, clicks=2) #Clicks data folder.\n",
    "pyautogui.click(x=518, y=454, clicks=2) #Clicks save.\n",
    "\n",
    "\n",
    "\n",
    "\n",
    "# STEP 4: Import the database to Pyton.\n",
    "# STEP 5: Calculate the indicators.\n",
    "# STEP 6: E-mail the report to the board of directors.\n",
    "\n"
   ]
  },
  {
   "cell_type": "markdown",
   "metadata": {},
   "source": [
    "### Vamos agora ler o arquivo baixado para pegar os indicadores\n",
    "\n",
    "- Faturamento\n",
    "- Quantidade de Produtos"
   ]
  },
  {
   "cell_type": "code",
   "execution_count": null,
   "metadata": {},
   "outputs": [],
   "source": []
  },
  {
   "cell_type": "markdown",
   "metadata": {},
   "source": [
    "### Vamos agora enviar um e-mail pelo gmail"
   ]
  },
  {
   "cell_type": "code",
   "execution_count": null,
   "metadata": {},
   "outputs": [],
   "source": []
  },
  {
   "cell_type": "markdown",
   "metadata": {},
   "source": [
    "#### Use esse código para descobrir qual a posição de um item que queira clicar\n",
    "\n",
    "- Lembre-se: a posição na sua tela é diferente da posição na minha tela"
   ]
  },
  {
   "cell_type": "code",
   "execution_count": 65,
   "metadata": {},
   "outputs": [
    {
     "data": {
      "text/plain": [
       "Point(x=518, y=454)"
      ]
     },
     "execution_count": 65,
     "metadata": {},
     "output_type": "execute_result"
    }
   ],
   "source": [
    "time.sleep(5)\n",
    "pyautogui.position()\n",
    "# leave the parenthesis empty. Leave the cursor in this cell. Lay the mouse pointer somewhere. CntrEnter.\n",
    "# (if waiting - time.sleep(5), as it MUST be - Lay the mouse pointer over somewhere now). The position will display.\n",
    "# Copy the position and paste in the main code above,\n",
    "# in the parenthesis of pyautogui.click"
   ]
  },
  {
   "cell_type": "code",
   "execution_count": null,
   "metadata": {},
   "outputs": [],
   "source": []
  }
 ],
 "metadata": {
  "kernelspec": {
   "display_name": "Python 3 (ipykernel)",
   "language": "python",
   "name": "python3"
  },
  "language_info": {
   "codemirror_mode": {
    "name": "ipython",
    "version": 3
   },
   "file_extension": ".py",
   "mimetype": "text/x-python",
   "name": "python",
   "nbconvert_exporter": "python",
   "pygments_lexer": "ipython3",
   "version": "3.9.7"
  }
 },
 "nbformat": 4,
 "nbformat_minor": 4
}
